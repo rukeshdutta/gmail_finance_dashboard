{
 "cells": [
  {
   "cell_type": "code",
   "execution_count": 1,
   "metadata": {},
   "outputs": [],
   "source": [
    "from email import message\n",
    "from googleapiclient.discovery import build\n",
    "from google_auth_oauthlib.flow import InstalledAppFlow\n",
    "from google.auth.transport.requests import Request\n",
    "import pickle\n",
    "import os.path\n",
    "import base64\n",
    "import email\n",
    "from bs4 import BeautifulSoup\n",
    "import csv \n",
    "import pandas as pd\n",
    "SCOPES = ['https://www.googleapis.com/auth/gmail.readonly']\n",
    "\n",
    "if os.path.exists('token.pickle'):\n",
    "  \n",
    "        # Read the token from the file and store it in the variable creds\n",
    "        with open('token.pickle', 'rb') as token:\n",
    "            creds = pickle.load(token)\n",
    "\n",
    "service = build('gmail', 'v1', credentials=creds)\n",
    "query ='from:no-reply@thecitybank.com \"transaction alert\"'\n",
    "result = service.users().messages().list(userId='me',q=query).execute()\n",
    "messages = []\n",
    "if 'messages' in result:\n",
    "        messages.extend(result['messages'])\n",
    "while 'nextPageToken' in result:\n",
    "        page_token = result['nextPageToken']\n",
    "        result = service.users().messages().list(userId='me',q=query, pageToken=page_token).execute()\n",
    "        if 'messages' in result:\n",
    "            messages.extend(result['messages'])"
   ]
  },
  {
   "cell_type": "code",
   "execution_count": 8,
   "metadata": {},
   "outputs": [],
   "source": [
    "messages_df = pd.DataFrame(messages)"
   ]
  },
  {
   "cell_type": "code",
   "execution_count": 13,
   "metadata": {},
   "outputs": [
    {
     "data": {
      "text/html": [
       "<div>\n",
       "<style scoped>\n",
       "    .dataframe tbody tr th:only-of-type {\n",
       "        vertical-align: middle;\n",
       "    }\n",
       "\n",
       "    .dataframe tbody tr th {\n",
       "        vertical-align: top;\n",
       "    }\n",
       "\n",
       "    .dataframe thead th {\n",
       "        text-align: right;\n",
       "    }\n",
       "</style>\n",
       "<table border=\"1\" class=\"dataframe\">\n",
       "  <thead>\n",
       "    <tr style=\"text-align: right;\">\n",
       "      <th></th>\n",
       "      <th>id</th>\n",
       "      <th>threadId</th>\n",
       "    </tr>\n",
       "  </thead>\n",
       "  <tbody>\n",
       "  </tbody>\n",
       "</table>\n",
       "</div>"
      ],
      "text/plain": [
       "Empty DataFrame\n",
       "Columns: [id, threadId]\n",
       "Index: []"
      ]
     },
     "execution_count": 13,
     "metadata": {},
     "output_type": "execute_result"
    }
   ],
   "source": [
    "messages_df[messages_df['threadId']=='181bf769af9eeb75']"
   ]
  },
  {
   "cell_type": "code",
   "execution_count": null,
   "metadata": {},
   "outputs": [],
   "source": [
    "# ex_thread:\n",
    "# FMfcgzGpGnGwnQKrkrwvbdtMtRqbwsWP\n",
    "\n",
    "# \"id\": \"181bf92ecf39008d\",\n",
    "#       \"threadId\": \"181bf769af9eeb75\""
   ]
  },
  {
   "cell_type": "code",
   "execution_count": null,
   "metadata": {},
   "outputs": [],
   "source": [
    "msg_rn = service.users().messages().get(userId='me', id='1827422df69315a4').execute()"
   ]
  },
  {
   "cell_type": "code",
   "execution_count": null,
   "metadata": {},
   "outputs": [],
   "source": [
    "# this contains the message id. search using>: rfc822msgid:\n",
    "msg_rn['payload']['headers'][17]['value']"
   ]
  },
  {
   "cell_type": "code",
   "execution_count": null,
   "metadata": {},
   "outputs": [],
   "source": [
    "# this contains the date of delivery\n",
    "msg_rn['payload']['headers'][12]"
   ]
  },
  {
   "cell_type": "code",
   "execution_count": 2,
   "metadata": {},
   "outputs": [],
   "source": [
    "dfs = []\n",
    "for msg in messages: \n",
    "    txt = service.users().messages().get(userId='me', id=msg['id']).execute()\n",
    "    payload = txt['payload']\n",
    "    msg_id = payload['headers'][17]['value']\n",
    "    msg_time = payload['headers'][12]['value']\n",
    "\n",
    "    if 'parts' in payload.keys():\n",
    "                parts = payload.get('parts')[1]\n",
    "                data = parts['body']['data']\n",
    "                data = data.replace(\"-\",\"+\").replace(\"_\",\"/\")\n",
    "                decoded_data = base64.b64decode(data)\n",
    "                soup = BeautifulSoup(decoded_data , \"html.parser\")\n",
    "                # body = soup.body()\n",
    "                text = []\n",
    "                for tr in soup.find_all('table')[1].find_all('table')[3].find_all('tr'):\n",
    "                    for td in tr.find_all('td'):\n",
    "                        text.append(str(td.string))\n",
    "                keys_ = text[::2]\n",
    "                values_ = text[1::2]\n",
    "                dict_ = dict(zip(keys_,values_))\n",
    "                temp_df = pd.DataFrame([dict_])\n",
    "                temp_df['msg_id']= msg_id\n",
    "                temp_df['msg_time'] = msg_time\n",
    "                temp_df['id']=msg['id']\n",
    "                dfs.append(temp_df)\n",
    "\n",
    "\n",
    "                \n",
    "# keys_ = text[::2]\n",
    "# values_ = text[1::2]\n",
    "# dict_ = dict(zip(keys_,values_))                "
   ]
  },
  {
   "cell_type": "code",
   "execution_count": 3,
   "metadata": {},
   "outputs": [],
   "source": [
    "df = pd.concat(dfs).reset_index()"
   ]
  },
  {
   "cell_type": "code",
   "execution_count": null,
   "metadata": {},
   "outputs": [],
   "source": [
    "df[['Transaction Amount','Available Balance']].apply(lambda x:x.str.replace('BDT',''))"
   ]
  },
  {
   "cell_type": "code",
   "execution_count": null,
   "metadata": {},
   "outputs": [],
   "source": [
    "df.id"
   ]
  },
  {
   "cell_type": "code",
   "execution_count": 7,
   "metadata": {},
   "outputs": [],
   "source": [
    "pd.DataFrame(messages).to_clipboard()"
   ]
  },
  {
   "cell_type": "code",
   "execution_count": 4,
   "metadata": {},
   "outputs": [],
   "source": [
    "df.to_csv('output_1.csv',index=False)"
   ]
  },
  {
   "cell_type": "code",
   "execution_count": null,
   "metadata": {},
   "outputs": [],
   "source": [
    "import pandas as pd\n",
    "dict_ = dict(zip(list(enumerate(keys_)),list(enumerate(values_))))"
   ]
  },
  {
   "cell_type": "code",
   "execution_count": null,
   "metadata": {},
   "outputs": [],
   "source": [
    "pd.DataFrame.from_dict(dict_,orient='index')"
   ]
  }
 ],
 "metadata": {
  "kernelspec": {
   "display_name": "Python 3.10.5 64-bit",
   "language": "python",
   "name": "python3"
  },
  "language_info": {
   "codemirror_mode": {
    "name": "ipython",
    "version": 3
   },
   "file_extension": ".py",
   "mimetype": "text/x-python",
   "name": "python",
   "nbconvert_exporter": "python",
   "pygments_lexer": "ipython3",
   "version": "3.10.5"
  },
  "orig_nbformat": 4,
  "vscode": {
   "interpreter": {
    "hash": "aee8b7b246df8f9039afb4144a1f6fd8d2ca17a180786b69acc140d282b71a49"
   }
  }
 },
 "nbformat": 4,
 "nbformat_minor": 2
}
