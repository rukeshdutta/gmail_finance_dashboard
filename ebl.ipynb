{
 "cells": [
  {
   "cell_type": "code",
   "execution_count": 1,
   "metadata": {},
   "outputs": [],
   "source": [
    "from email import message\n",
    "from googleapiclient.discovery import build\n",
    "from google_auth_oauthlib.flow import InstalledAppFlow\n",
    "from google.auth.transport.requests import Request\n",
    "import pickle\n",
    "import os.path\n",
    "import base64\n",
    "import email\n",
    "from bs4 import BeautifulSoup\n",
    "import csv \n",
    "import pandas as pd\n",
    "SCOPES = ['https://www.googleapis.com/auth/gmail.readonly']\n",
    "\n",
    "if os.path.exists('token.pickle'):\n",
    "  \n",
    "        # Read the token from the file and store it in the variable creds\n",
    "        with open('token.pickle', 'rb') as token:\n",
    "            creds = pickle.load(token)\n",
    "\n",
    "service = build('gmail', 'v1', credentials=creds)\n",
    "query ='label:ebl ebl transaction alert'\n",
    "result = service.users().messages().list(userId='me',q=query).execute()\n",
    "messages = []\n",
    "if 'messages' in result:\n",
    "        messages.extend(result['messages'])\n",
    "while 'nextPageToken' in result:\n",
    "        page_token = result['nextPageToken']\n",
    "        result = service.users().messages().list(userId='me',q=query, pageToken=page_token).execute()\n",
    "        if 'messages' in result:\n",
    "            messages.extend(result['messages'])"
   ]
  },
  {
   "cell_type": "code",
   "execution_count": 2,
   "metadata": {},
   "outputs": [],
   "source": [
    "messages_df = pd.DataFrame(messages)"
   ]
  },
  {
   "cell_type": "code",
   "execution_count": 3,
   "metadata": {},
   "outputs": [
    {
     "data": {
      "text/plain": [
       "859"
      ]
     },
     "execution_count": 3,
     "metadata": {},
     "output_type": "execute_result"
    }
   ],
   "source": [
    "len(messages_df)"
   ]
  },
  {
   "cell_type": "code",
   "execution_count": 4,
   "metadata": {},
   "outputs": [
    {
     "data": {
      "text/html": [
       "<div>\n",
       "<style scoped>\n",
       "    .dataframe tbody tr th:only-of-type {\n",
       "        vertical-align: middle;\n",
       "    }\n",
       "\n",
       "    .dataframe tbody tr th {\n",
       "        vertical-align: top;\n",
       "    }\n",
       "\n",
       "    .dataframe thead th {\n",
       "        text-align: right;\n",
       "    }\n",
       "</style>\n",
       "<table border=\"1\" class=\"dataframe\">\n",
       "  <thead>\n",
       "    <tr style=\"text-align: right;\">\n",
       "      <th></th>\n",
       "      <th>id</th>\n",
       "      <th>threadId</th>\n",
       "    </tr>\n",
       "  </thead>\n",
       "  <tbody>\n",
       "    <tr>\n",
       "      <th>0</th>\n",
       "      <td>182f885afa2ba671</td>\n",
       "      <td>182f885afa2ba671</td>\n",
       "    </tr>\n",
       "    <tr>\n",
       "      <th>1</th>\n",
       "      <td>182eaf580cbabd0e</td>\n",
       "      <td>182e9c6f2c3436d0</td>\n",
       "    </tr>\n",
       "    <tr>\n",
       "      <th>2</th>\n",
       "      <td>182e9c6f2c3436d0</td>\n",
       "      <td>182e9c6f2c3436d0</td>\n",
       "    </tr>\n",
       "    <tr>\n",
       "      <th>3</th>\n",
       "      <td>182d4d297a1f5779</td>\n",
       "      <td>182d4c4ffc2980e9</td>\n",
       "    </tr>\n",
       "    <tr>\n",
       "      <th>4</th>\n",
       "      <td>182d4c4ffc2980e9</td>\n",
       "      <td>182d4c4ffc2980e9</td>\n",
       "    </tr>\n",
       "    <tr>\n",
       "      <th>...</th>\n",
       "      <td>...</td>\n",
       "      <td>...</td>\n",
       "    </tr>\n",
       "    <tr>\n",
       "      <th>854</th>\n",
       "      <td>15f966f174663123</td>\n",
       "      <td>15f966f174663123</td>\n",
       "    </tr>\n",
       "    <tr>\n",
       "      <th>855</th>\n",
       "      <td>15f82e0b252a1f8a</td>\n",
       "      <td>15f82e0b252a1f8a</td>\n",
       "    </tr>\n",
       "    <tr>\n",
       "      <th>856</th>\n",
       "      <td>15f78f319f846b72</td>\n",
       "      <td>15f78f319f846b72</td>\n",
       "    </tr>\n",
       "    <tr>\n",
       "      <th>857</th>\n",
       "      <td>15f6cdca6328b831</td>\n",
       "      <td>15f6cdca6328b831</td>\n",
       "    </tr>\n",
       "    <tr>\n",
       "      <th>858</th>\n",
       "      <td>15f68267094316c1</td>\n",
       "      <td>15f68267094316c1</td>\n",
       "    </tr>\n",
       "  </tbody>\n",
       "</table>\n",
       "<p>859 rows × 2 columns</p>\n",
       "</div>"
      ],
      "text/plain": [
       "                   id          threadId\n",
       "0    182f885afa2ba671  182f885afa2ba671\n",
       "1    182eaf580cbabd0e  182e9c6f2c3436d0\n",
       "2    182e9c6f2c3436d0  182e9c6f2c3436d0\n",
       "3    182d4d297a1f5779  182d4c4ffc2980e9\n",
       "4    182d4c4ffc2980e9  182d4c4ffc2980e9\n",
       "..                ...               ...\n",
       "854  15f966f174663123  15f966f174663123\n",
       "855  15f82e0b252a1f8a  15f82e0b252a1f8a\n",
       "856  15f78f319f846b72  15f78f319f846b72\n",
       "857  15f6cdca6328b831  15f6cdca6328b831\n",
       "858  15f68267094316c1  15f68267094316c1\n",
       "\n",
       "[859 rows x 2 columns]"
      ]
     },
     "execution_count": 4,
     "metadata": {},
     "output_type": "execute_result"
    }
   ],
   "source": [
    "messages_df"
   ]
  },
  {
   "cell_type": "code",
   "execution_count": null,
   "metadata": {},
   "outputs": [],
   "source": [
    "# ex_thread:\n",
    "# FMfcgzGpGnGwnQKrkrwvbdtMtRqbwsWP\n",
    "\n",
    "# \"id\": \"181bf92ecf39008d\",\n",
    "#       \"threadId\": \"181bf769af9eeb75\""
   ]
  },
  {
   "cell_type": "code",
   "execution_count": 5,
   "metadata": {},
   "outputs": [],
   "source": [
    "msg_rn = service.users().messages().get(userId='me', id='182f885afa2ba671').execute()"
   ]
  },
  {
   "cell_type": "code",
   "execution_count": 6,
   "metadata": {},
   "outputs": [
    {
     "data": {
      "text/plain": [
       "'1 Sep 2022 16:07:48 +0600'"
      ]
     },
     "execution_count": 6,
     "metadata": {},
     "output_type": "execute_result"
    }
   ],
   "source": [
    "# this contains the message id. search using>: rfc822msgid:\n",
    "# time\n",
    "msg_rn['payload']['headers'][17]['value']"
   ]
  },
  {
   "cell_type": "code",
   "execution_count": 10,
   "metadata": {},
   "outputs": [
    {
     "data": {
      "text/plain": [
       "[{'name': 'Delivered-To', 'value': 'write2rukesh@gmail.com'},\n",
       " {'name': 'Received',\n",
       "  'value': 'by 2002:a05:7010:4a84:b0:2ed:167e:615c with SMTP id k4csp169162mdn;        Thu, 1 Sep 2022 03:08:06 -0700 (PDT)'},\n",
       " {'name': 'X-Google-Smtp-Source',\n",
       "  'value': 'AA6agR5OEPJ1yO3HUL0yPxwi2W5ber2d/a7kcjBjWkSguNk8MdBo2uCJpbCywxLSMoxpIFpy/DcK'},\n",
       " {'name': 'X-Received',\n",
       "  'value': 'by 2002:a17:903:41ce:b0:175:2565:9ddb with SMTP id u14-20020a17090341ce00b0017525659ddbmr10968135ple.161.1662026886676;        Thu, 01 Sep 2022 03:08:06 -0700 (PDT)'},\n",
       " {'name': 'ARC-Seal',\n",
       "  'value': 'i=1; a=rsa-sha256; t=1662026886; cv=none;        d=google.com; s=arc-20160816;        b=Et/Ya6niDTvjIq2wEcdWz8AEb8HplNHVYynmXMKBsahUMHI59Cx90LNELzD0jZw5Es         Ur0b7IMhmaCU3CgIxaGl7eF4lrQXwwllI6ctaUOoZEYJ0GSWimS6h0MnKQ8W3h/+lLIp         YBVpRnjR5giFAmKwdk9wRDZV1jQPMfSztoDbN6ef9lqOHukcVL4dsToHQb5i9dx5Cmok         aXGyliFvnA+lUMQV2U/x/mktjTZ9A09tZJs1i+uf4J/qyO9ql8/9KZ015pmCWJKkhQJR         HO2MA+rgl6u2LqEPo8U0Jd47gSrhvmDh4W/Fu2IFC4VAq/ZiOT1+PVBaZXc6GOO6W3nR         1iCw=='},\n",
       " {'name': 'ARC-Message-Signature',\n",
       "  'value': 'i=1; a=rsa-sha256; c=relaxed/relaxed; d=google.com; s=arc-20160816;        h=content-transfer-encoding:subject:date:to:from:mime-version         :message-id;        bh=rTqP2kHzth6eWV/wdp7mpgwMK651+lvpAfq0vMgvW/I=;        b=prFp1ZJelqjBUC7BRRNoMLB2dca+XbAn8rqBKhW62tC/2hxXYncyPbesA5/sOgvrxE         9Y70XykEcU8iJIAvH50W2QnPbtGUwEkzhCNdIw3JICmkchbcMqmC+nNxnIhM/GHdvLPb         hsnhjC9WF/XXfoNNaDbL2mgNXlAxDt/7iSpl+6AfDOilP9yNuIrAd9abo2vMKWDRP/hX         i+DUhDV5YF+Du6k4qnjJQ/eO5nkMpWBV5pzSJmxGg1JS+BB5ohs2uLBH+CLkgmvm2hpx         Q9KlNZ77rS73xgPhBrJ0Gx+BYYNUtXKXhY77Da3c2N0z4depN1+/sUVjACnAlw++Mc0H         9ESQ=='},\n",
       " {'name': 'ARC-Authentication-Results',\n",
       "  'value': 'i=1; mx.google.com;       spf=pass (google.com: domain of simple@ebl-bd.com designates 103.79.225.105 as permitted sender) smtp.mailfrom=simple@ebl-bd.com;       dmarc=pass (p=NONE sp=NONE dis=NONE) header.from=ebl-bd.com'},\n",
       " {'name': 'Return-Path', 'value': '<simple@ebl-bd.com>'},\n",
       " {'name': 'Received',\n",
       "  'value': 'from smtp.ebl-bd.com (smtp.ebl-bd.com. [103.79.225.105])        by mx.google.com with ESMTPS id d13-20020a65620d000000b004198148dd1fsi7302384pgv.192.2022.09.01.03.08.05        for <write2rukesh@gmail.com>        (version=TLS1 cipher=AES128-SHA bits=128/128);        Thu, 01 Sep 2022 03:08:06 -0700 (PDT)'},\n",
       " {'name': 'Received-SPF',\n",
       "  'value': 'pass (google.com: domain of simple@ebl-bd.com designates 103.79.225.105 as permitted sender) client-ip=103.79.225.105;'},\n",
       " {'name': 'Authentication-Results',\n",
       "  'value': 'mx.google.com;       spf=pass (google.com: domain of simple@ebl-bd.com designates 103.79.225.105 as permitted sender) smtp.mailfrom=simple@ebl-bd.com;       dmarc=pass (p=NONE sp=NONE dis=NONE) header.from=ebl-bd.com'},\n",
       " {'name': 'Received',\n",
       "  'value': 'from EBL-NewSMS ([192.168.3.21]) by smtp.ebl-bd.com (8.13.8/8.13.8) with ESMTP id 281A0TL4030680; Thu, 1 Sep 2022 16:08:04 +0600'},\n",
       " {'name': 'X-DKIM',\n",
       "  'value': 'Sendmail DKIM Filter v2.8.3 smtp.ebl-bd.com 281A0TL4030680'},\n",
       " {'name': 'Message-Id',\n",
       "  'value': '<202209011008.281A0TL4030680@smtp.ebl-bd.com>'},\n",
       " {'name': 'MIME-Version', 'value': '1.0'},\n",
       " {'name': 'From', 'value': 'Eastern Bank Limited <simple@ebl-bd.com>'},\n",
       " {'name': 'To',\n",
       "  'value': 'rukesh.dutta@zerogravity.com.bd, write2rukesh@gmail.com'},\n",
       " {'name': 'Date', 'value': '1 Sep 2022 16:07:48 +0600'},\n",
       " {'name': 'Subject', 'value': 'EBL Transaction Alert'},\n",
       " {'name': 'Content-Type', 'value': 'text/html'},\n",
       " {'name': 'Content-Transfer-Encoding', 'value': 'base64'}]"
      ]
     },
     "execution_count": 10,
     "metadata": {},
     "output_type": "execute_result"
    }
   ],
   "source": [
    "msg_rn['payload']['headers']"
   ]
  },
  {
   "cell_type": "code",
   "execution_count": 11,
   "metadata": {},
   "outputs": [
    {
     "data": {
      "text/plain": [
       "{'name': 'Message-Id',\n",
       " 'value': '<202209011008.281A0TL4030680@smtp.ebl-bd.com>'}"
      ]
     },
     "execution_count": 11,
     "metadata": {},
     "output_type": "execute_result"
    }
   ],
   "source": [
    "# this contains the date of delivery\n",
    "# msg_id\n",
    "msg_rn['payload']['headers'][13]"
   ]
  },
  {
   "cell_type": "code",
   "execution_count": 12,
   "metadata": {},
   "outputs": [
    {
     "data": {
      "text/plain": [
       "dict_keys(['partId', 'mimeType', 'filename', 'headers', 'body'])"
      ]
     },
     "execution_count": 12,
     "metadata": {},
     "output_type": "execute_result"
    }
   ],
   "source": [
    "msg_rn['payload'].keys()"
   ]
  },
  {
   "cell_type": "code",
   "execution_count": null,
   "metadata": {},
   "outputs": [],
   "source": [
    "msg_rn['payload']['body']"
   ]
  },
  {
   "cell_type": "code",
   "execution_count": 19,
   "metadata": {},
   "outputs": [],
   "source": [
    "from bs4 import BeautifulSoup,NavigableString,Tag\n",
    "with open('//Users/daraz/Desktop/ebl.html','r') as f:\n",
    "    s = BeautifulSoup(f,'html.parser')"
   ]
  },
  {
   "cell_type": "code",
   "execution_count": 29,
   "metadata": {},
   "outputs": [
    {
     "ename": "AttributeError",
     "evalue": "'NavigableString' object has no attribute 'find_all'",
     "output_type": "error",
     "traceback": [
      "\u001b[0;31m---------------------------------------------------------------------------\u001b[0m",
      "\u001b[0;31mAttributeError\u001b[0m                            Traceback (most recent call last)",
      "\u001b[1;32m/Users/daraz/Desktop/Python scripts/Daraz 22/gmail_api/ebl.ipynb Cell 13'\u001b[0m in \u001b[0;36m<cell line: 5>\u001b[0;34m()\u001b[0m\n\u001b[1;32m      <a href='vscode-notebook-cell:/Users/daraz/Desktop/Python%20scripts/Daraz%2022/gmail_api/ebl.ipynb#ch0000012?line=3'>4</a>\u001b[0m         tds\u001b[39m.\u001b[39mappend(td)\n\u001b[1;32m      <a href='vscode-notebook-cell:/Users/daraz/Desktop/Python%20scripts/Daraz%2022/gmail_api/ebl.ipynb#ch0000012?line=4'>5</a>\u001b[0m \u001b[39mfor\u001b[39;00m tr \u001b[39min\u001b[39;00m tds:\n\u001b[0;32m----> <a href='vscode-notebook-cell:/Users/daraz/Desktop/Python%20scripts/Daraz%2022/gmail_api/ebl.ipynb#ch0000012?line=5'>6</a>\u001b[0m     \u001b[39mfor\u001b[39;00m tr \u001b[39min\u001b[39;00m td\u001b[39m.\u001b[39;49mfind_all(\u001b[39m'\u001b[39m\u001b[39mtd\u001b[39m\u001b[39m'\u001b[39m):\n\u001b[1;32m      <a href='vscode-notebook-cell:/Users/daraz/Desktop/Python%20scripts/Daraz%2022/gmail_api/ebl.ipynb#ch0000012?line=6'>7</a>\u001b[0m         \u001b[39mprint\u001b[39m(td)\n",
      "File \u001b[0;32m/Library/Frameworks/Python.framework/Versions/3.10/lib/python3.10/site-packages/bs4/element.py:965\u001b[0m, in \u001b[0;36mNavigableString.__getattr__\u001b[0;34m(self, attr)\u001b[0m\n\u001b[1;32m    963\u001b[0m     \u001b[39mreturn\u001b[39;00m \u001b[39mself\u001b[39m\n\u001b[1;32m    964\u001b[0m \u001b[39melse\u001b[39;00m:\n\u001b[0;32m--> 965\u001b[0m     \u001b[39mraise\u001b[39;00m \u001b[39mAttributeError\u001b[39;00m(\n\u001b[1;32m    966\u001b[0m         \u001b[39m\"\u001b[39m\u001b[39m'\u001b[39m\u001b[39m%s\u001b[39;00m\u001b[39m'\u001b[39m\u001b[39m object has no attribute \u001b[39m\u001b[39m'\u001b[39m\u001b[39m%s\u001b[39;00m\u001b[39m'\u001b[39m\u001b[39m\"\u001b[39m \u001b[39m%\u001b[39m (\n\u001b[1;32m    967\u001b[0m             \u001b[39mself\u001b[39m\u001b[39m.\u001b[39m\u001b[39m__class__\u001b[39m\u001b[39m.\u001b[39m\u001b[39m__name__\u001b[39m, attr))\n",
      "\u001b[0;31mAttributeError\u001b[0m: 'NavigableString' object has no attribute 'find_all'"
     ]
    }
   ],
   "source": [
    "tds = []\n",
    "for td in s.find_all('table')[0]:\n",
    "    if isinstance(td,Tag):\n",
    "        tds.append(td)\n",
    "for tr in tds:\n",
    "    for tr in td.find_all('td'):\n",
    "        print(td)        \n",
    "    "
   ]
  },
  {
   "cell_type": "code",
   "execution_count": 25,
   "metadata": {},
   "outputs": [
    {
     "data": {
      "text/plain": [
       "[<tr style=\"height: 16.5pt\">\n",
       " <td class=\"style1\" nowrap=\"\" style=\"border: solid windowtext 1.0pt; background: #FFC000;\n",
       "                     padding: 0in 5.4pt 0in 5.4pt; \">\n",
       " <p align=\"center\" class=\"MsoNormal\" style=\"text-align: center\">\n",
       " <b><span style='font-size: 10.0pt; font-family: \"Tahoma\",\"Tahoma\"'>Particulars<o:p></o:p></span></b></p>\n",
       " </td>\n",
       " <td class=\"style3\" nowrap=\"\" style=\"border-right: 1.0pt solid windowtext; border-top: 1.0pt solid windowtext; border-bottom: 1.0pt solid windowtext; background: #FFC000; padding: 0in 5.4pt; border-left-style: none; border-left-color: inherit; border-left-width: medium;\">\n",
       " <p align=\"center\" class=\"MsoNormal\" style=\"text-align: center\">\n",
       " <b><span style='font-size: 10.0pt; font-family: \"Tahoma\",\"Tahoma\"'>Transaction\n",
       "                             Details<o:p></o:p></span></b></p>\n",
       " </td>\n",
       " </tr>,\n",
       " <tr style=\"height: 15.75pt\">\n",
       " <td class=\"style2\" nowrap=\"\" style=\"border-left: 1.0pt solid windowtext; border-right: 1.0pt solid windowtext; border-bottom: 1.0pt solid windowtext; background: white; padding: 0in 5.4pt; border-top-style: none; border-top-color: inherit; border-top-width: medium;\" valign=\"bottom\">\n",
       " <p class=\"MsoNormal\">\n",
       " <b><span style='font-size: 10.0pt; font-family: \"Tahoma\",\"Tahoma\"; color: black'>\n",
       "                             Card Number<o:p></o:p></span></b></p>\n",
       " </td>\n",
       " <td class=\"style4\" nowrap=\"\" style=\"border-bottom: solid windowtext 1.0pt; border-right: solid windowtext 1.0pt;\n",
       "                     padding: 0in 5.4pt 0in 5.4pt; border-left-style: none; border-left-color: inherit; border-left-width: medium; border-top-style: none; border-top-color: inherit; border-top-width: medium;\" valign=\"bottom\">\n",
       " <p class=\"MsoNormal\">\n",
       " <span style='font-size: 10.0pt; font-family: \"Tahoma\",\"Tahoma\"; color: black'>\n",
       "                             413401**7215<o:p></o:p></span></p>\n",
       " </td>\n",
       " </tr>,\n",
       " <tr style=\"height: 15.75pt\">\n",
       " <td class=\"style2\" nowrap=\"\" style=\"border-left: 1.0pt solid windowtext; border-right: 1.0pt solid windowtext; border-bottom: 1.0pt solid windowtext; background: white; padding: 0in 5.4pt; border-top-style: none; border-top-color: inherit; border-top-width: medium;\" valign=\"bottom\">\n",
       " <p class=\"MsoNormal\">\n",
       " <b><span style='font-size: 10.0pt; font-family: \"Tahoma\",\"Tahoma\"; color: black'>\n",
       "                             Client Name<o:p></o:p></span></b></p>\n",
       " </td>\n",
       " <td class=\"style4\" nowrap=\"\" style=\"border-bottom: solid windowtext 1.0pt; border-right: solid windowtext 1.0pt;\n",
       "                     padding: 0in 5.4pt 0in 5.4pt; border-left-style: none; border-left-color: inherit; border-left-width: medium; border-top-style: none; border-top-color: inherit; border-top-width: medium;\" valign=\"bottom\">\n",
       " <p class=\"MsoNormal\">\n",
       " <span style='font-size: 10.0pt; font-family: \"Tahoma\",\"Tahoma\"; color: black'>\n",
       "                             RUKESH DUTTA<o:p></o:p></span></p>\n",
       " </td>\n",
       " </tr>,\n",
       " <tr style=\"height: 15.75pt\">\n",
       " <td class=\"style2\" nowrap=\"\" style=\"border-left: 1.0pt solid windowtext; border-right: 1.0pt solid windowtext; border-bottom: 1.0pt solid windowtext; background: white; padding: 0in 5.4pt; border-top-style: none; border-top-color: inherit; border-top-width: medium;\" valign=\"bottom\">\n",
       " <p class=\"MsoNormal\">\n",
       " <b><span style='font-size: 10.0pt; font-family: \"Tahoma\",\"Tahoma\"; color: black'>\n",
       "                             Transaction Date<o:p></o:p></span></b></p>\n",
       " </td>\n",
       " <td class=\"style4\" nowrap=\"\" style=\"border-bottom: solid windowtext 1.0pt; border-right: solid windowtext 1.0pt;\n",
       "                     padding: 0in 5.4pt 0in 5.4pt; border-left-style: none; border-left-color: inherit; border-left-width: medium; border-top-style: none; border-top-color: inherit; border-top-width: medium;\" valign=\"bottom\">\n",
       " <p class=\"MsoNormal\">\n",
       " <span style='font-size: 10.0pt; font-family: \"Tahoma\",\"Tahoma\"; color: black'>\n",
       "                             9/1/2022 4:07:59 PM</span></p>\n",
       " </td>\n",
       " </tr>,\n",
       " <tr style=\"height: 15.75pt\">\n",
       " <td class=\"style2\" nowrap=\"\" style=\"border-left: 1.0pt solid windowtext; border-right: 1.0pt solid windowtext; border-bottom: 1.0pt solid windowtext; background: white; padding: 0in 5.4pt; border-top-style: none; border-top-color: inherit; border-top-width: medium;\" valign=\"bottom\">\n",
       " <p class=\"MsoNormal\">\n",
       " <b><span style='font-size: 10.0pt; font-family: \"Tahoma\",\"Tahoma\"; color: black'>\n",
       "                             Transaction Amount<o:p></o:p></span></b></p>\n",
       " </td>\n",
       " <td class=\"style4\" nowrap=\"\" style=\"border-bottom: solid windowtext 1.0pt; border-right: solid windowtext 1.0pt;\n",
       "                     padding: 0in 5.4pt 0in 5.4pt; border-left-style: none; border-left-color: inherit; border-left-width: medium; border-top-style: none; border-top-color: inherit; border-top-width: medium;\" valign=\"bottom\">\n",
       " <p class=\"MsoNormal\">\n",
       " <span style='font-size: 10.0pt; font-family: \"Tahoma\",\"Tahoma\"; color: black'>\n",
       "                             2840<o:p></o:p></span></p>\n",
       " </td>\n",
       " </tr>,\n",
       " <tr style=\"height: 15.75pt\">\n",
       " <td class=\"style2\" nowrap=\"\" style=\"border-left: 1.0pt solid windowtext; border-right: 1.0pt solid windowtext; border-bottom: 1.0pt solid windowtext; background: white; padding: 0in 5.4pt; border-top-style: none; border-top-color: inherit; border-top-width: medium;\" valign=\"bottom\">\n",
       " <p class=\"MsoNormal\">\n",
       " <b><span style='font-size: 10.0pt; font-family: \"Tahoma\",\"Tahoma\"; color: black'>\n",
       "                             Transaction Currency<o:p></o:p></span></b></p>\n",
       " </td>\n",
       " <td class=\"style4\" nowrap=\"\" style=\"border-bottom: solid windowtext 1.0pt; border-right: solid windowtext 1.0pt;\n",
       "                     padding: 0in 5.4pt 0in 5.4pt; border-left-style: none; border-left-color: inherit; border-left-width: medium; border-top-style: none; border-top-color: inherit; border-top-width: medium;\" valign=\"bottom\">\n",
       " <p class=\"MsoNormal\">\n",
       " <span style='font-size: 10.0pt; font-family: \"Tahoma\",\"Tahoma\"; color: black'>\n",
       "                             BDT<o:p></o:p></span></p>\n",
       " </td>\n",
       " </tr>,\n",
       " <tr style=\"height: 15.75pt\">\n",
       " <td class=\"style2\" nowrap=\"\" style=\"border-left: 1.0pt solid windowtext; border-right: 1.0pt solid windowtext; border-bottom: 1.0pt solid windowtext; background: white; padding: 0in 5.4pt; border-top-style: none; border-top-color: inherit; border-top-width: medium;\" valign=\"bottom\">\n",
       " <p class=\"MsoNormal\">\n",
       " <b><span style='font-size: 10.0pt; font-family: \"Tahoma\",\"Tahoma\"; color: black'>\n",
       "                             Transaction Type<o:p></o:p></span></b></p>\n",
       " </td>\n",
       " <td class=\"style4\" nowrap=\"\" style=\"border-bottom: solid windowtext 1.0pt; border-right: solid windowtext 1.0pt;\n",
       "                     padding: 0in 5.4pt 0in 5.4pt; border-left-style: none; border-left-color: inherit; border-left-width: medium; border-top-style: none; border-top-color: inherit; border-top-width: medium;\" valign=\"bottom\">\n",
       " <p class=\"MsoNormal\">\n",
       " <span style='font-size: 10.0pt; font-family: \"Tahoma\",\"Tahoma\"; color: black'>\n",
       "                             PURCHASE<o:p></o:p></span></p>\n",
       " </td>\n",
       " </tr>,\n",
       " <tr style=\"height: 15.75pt\">\n",
       " <td class=\"style2\" nowrap=\"\" style=\"border-left: 1.0pt solid windowtext; border-right: 1.0pt solid windowtext; border-bottom: 1.0pt solid windowtext; background: white; padding: 0in 5.4pt; border-top-style: none; border-top-color: inherit; border-top-width: medium;\" valign=\"bottom\">\n",
       " <p class=\"MsoNormal\">\n",
       " <b><span style='font-size: 10.0pt; font-family: \"Tahoma\",\"Tahoma\"; color: black'>\n",
       "                             Merchant Name<o:p></o:p></span></b></p>\n",
       " </td>\n",
       " <td class=\"style4\" nowrap=\"\" style=\"border-bottom: solid windowtext 1.0pt; border-right: solid windowtext 1.0pt;\n",
       "                     padding: 0in 5.4pt 0in 5.4pt; border-left-style: none; border-left-color: inherit; border-left-width: medium; border-top-style: none; border-top-color: inherit; border-top-width: medium;\" valign=\"bottom\">\n",
       " <p class=\"MsoNormal\" style=\"text-align: justify\">\n",
       " <span style='font-size: 10.0pt; font-family: \"Tahoma\",\"Tahoma\"; color: black'>\n",
       "                             NOTRTH END- GULSHAN-2 DHAKA BD<o:p></o:p></span></p>\n",
       " </td>\n",
       " </tr>,\n",
       " <tr style=\"height: 15.75pt\">\n",
       " <td class=\"style2\" nowrap=\"\" style=\"border-left: 1.0pt solid windowtext; border-right: 1.0pt solid windowtext; border-bottom: 1.0pt solid windowtext; background: white; padding: 0in 5.4pt; border-top-style: none; border-top-color: inherit; border-top-width: medium;\" valign=\"bottom\">\n",
       " <p class=\"MsoNormal\">\n",
       " <b><span style='font-size: 10.0pt; font-family: \"Tahoma\",\"Tahoma\"; color: black'>\n",
       "                             Available Amount<o:p></o:p></span></b></p>\n",
       " </td>\n",
       " <td class=\"style4\" nowrap=\"\" style=\"border-bottom: solid windowtext 1.0pt; border-right: solid windowtext 1.0pt;\n",
       "                     padding: 0in 5.4pt 0in 5.4pt; border-left-style: none; border-left-color: inherit; border-left-width: medium; border-top-style: none; border-top-color: inherit; border-top-width: medium;\" valign=\"bottom\">\n",
       " <p class=\"MsoNormal\">\n",
       " <span style='font-size: 10.0pt; font-family: \"Tahoma\",\"Tahoma\"; color: black'>\n",
       "                             158505.79<o:p></o:p></span></p>\n",
       " </td>\n",
       " </tr>]"
      ]
     },
     "execution_count": 25,
     "metadata": {},
     "output_type": "execute_result"
    }
   ],
   "source": [
    "tds"
   ]
  },
  {
   "cell_type": "code",
   "execution_count": null,
   "metadata": {},
   "outputs": [],
   "source": [
    "dfs = []\n",
    "for msg in messages[:1]: \n",
    "    txt = service.users().messages().get(userId='me', id=msg['id']).execute()\n",
    "    payload = txt['payload']\n",
    "    msg_id = payload['headers'][13]['value']\n",
    "    msg_time = payload['headers'][17]['value']\n",
    "\n",
    "    if 'parts' in payload.keys():\n",
    "                parts = payload.get('parts')[1]\n",
    "                data = parts['body']['data']\n",
    "                data = data.replace(\"-\",\"+\").replace(\"_\",\"/\")\n",
    "                decoded_data = base64.b64decode(data)\n",
    "                soup = BeautifulSoup(decoded_data , \"html.parser\")\n",
    "                # body = soup.body()\n",
    "                text = []\n",
    "                for tr in soup.find_all('table')[1].find_all('table')[3].find_all('tr'):\n",
    "                    for td in tr.find_all('td'):\n",
    "                        text.append(str(td.string))\n",
    "                keys_ = text[::2]\n",
    "                values_ = text[1::2]\n",
    "                dict_ = dict(zip(keys_,values_))\n",
    "                temp_df = pd.DataFrame([dict_])\n",
    "                temp_df['msg_id']= msg_id\n",
    "                temp_df['msg_time'] = msg_time\n",
    "                temp_df['id']=msg['id']\n",
    "                dfs.append(temp_df)\n",
    "     \n",
    "    elif 'body' in payload.keys():\n",
    "                body = payload.get('body')\n",
    "                data = body['data']\n",
    "                data = data.replace(\"-\",\"+\").replace(\"_\",\"/\")\n",
    "                decoded_data = base64.b64decode(data)\n",
    "                soup = BeautifulSoup(decoded_data , \"html.parser\")\n",
    "                print(soup)\n",
    "\n",
    "    else:\n",
    "        pass            \n",
    "                   \n",
    "\n",
    "\n",
    "                \n",
    "# keys_ = text[::2]\n",
    "# values_ = text[1::2]\n",
    "# dict_ = dict(zip(keys_,values_))                "
   ]
  },
  {
   "cell_type": "code",
   "execution_count": 3,
   "metadata": {},
   "outputs": [],
   "source": [
    "df = pd.concat(dfs).reset_index()"
   ]
  },
  {
   "cell_type": "code",
   "execution_count": null,
   "metadata": {},
   "outputs": [],
   "source": [
    "df[['Transaction Amount','Available Balance']].apply(lambda x:x.str.replace('BDT',''))"
   ]
  },
  {
   "cell_type": "code",
   "execution_count": 5,
   "metadata": {},
   "outputs": [
    {
     "data": {
      "text/html": [
       "<div>\n",
       "<style scoped>\n",
       "    .dataframe tbody tr th:only-of-type {\n",
       "        vertical-align: middle;\n",
       "    }\n",
       "\n",
       "    .dataframe tbody tr th {\n",
       "        vertical-align: top;\n",
       "    }\n",
       "\n",
       "    .dataframe thead th {\n",
       "        text-align: right;\n",
       "    }\n",
       "</style>\n",
       "<table border=\"1\" class=\"dataframe\">\n",
       "  <thead>\n",
       "    <tr style=\"text-align: right;\">\n",
       "      <th></th>\n",
       "      <th>index</th>\n",
       "      <th>Particulars</th>\n",
       "      <th>Transaction Time &amp; Date</th>\n",
       "      <th>Transaction Amount</th>\n",
       "      <th>Available Balance</th>\n",
       "      <th>Terminal Location</th>\n",
       "      <th>Card No.</th>\n",
       "      <th>msg_id</th>\n",
       "      <th>msg_time</th>\n",
       "      <th>id</th>\n",
       "      <th>Amount</th>\n",
       "    </tr>\n",
       "  </thead>\n",
       "  <tbody>\n",
       "    <tr>\n",
       "      <th>0</th>\n",
       "      <td>0</td>\n",
       "      <td>None</td>\n",
       "      <td>23:05 06-AUG-2022</td>\n",
       "      <td>BDT 5000.00</td>\n",
       "      <td>BDT 2771437.98</td>\n",
       "      <td>ATM WDLShantinagar RATM&gt;Shantinagar TSO      BD</td>\n",
       "      <td>371599XXXXXXXXX</td>\n",
       "      <td>&lt;251169511d7ca8c6514a89cad9e2045f@localhost.lo...</td>\n",
       "      <td>Sat, 6 Aug 2022 23:10:06 +0600</td>\n",
       "      <td>1827422df69315a4</td>\n",
       "      <td>NaN</td>\n",
       "    </tr>\n",
       "    <tr>\n",
       "      <th>1</th>\n",
       "      <td>0</td>\n",
       "      <td>None</td>\n",
       "      <td>16:55 27-MAY-2022</td>\n",
       "      <td>BDT 20000.00</td>\n",
       "      <td>BDT 2694228.82</td>\n",
       "      <td>ATM WDLShantinagar, Dhaka ATM&gt;Shantinagar TSOBD</td>\n",
       "      <td>371599XXXXXXXXX</td>\n",
       "      <td>&lt;373df72ee53ba831830c5ba632d6e6f7@localhost.lo...</td>\n",
       "      <td>Fri, 27 May 2022 17:15:15 +0600</td>\n",
       "      <td>181053af774eaafe</td>\n",
       "      <td>NaN</td>\n",
       "    </tr>\n",
       "    <tr>\n",
       "      <th>2</th>\n",
       "      <td>0</td>\n",
       "      <td>None</td>\n",
       "      <td>09:55 03-APR-2022</td>\n",
       "      <td>BDT 10000.00</td>\n",
       "      <td>BDT 2753228.82</td>\n",
       "      <td>ATM WDLShantinagar, Dhaka ATM&gt;Shantinagar TSOBD</td>\n",
       "      <td>371599XXXXXXXXX</td>\n",
       "      <td>&lt;96fc3a582ae5a9b79a46c0753c57b616@localhost.lo...</td>\n",
       "      <td>Sun, 3 Apr 2022 10:00:09 +0600</td>\n",
       "      <td>17fed94cee6cae59</td>\n",
       "      <td>NaN</td>\n",
       "    </tr>\n",
       "    <tr>\n",
       "      <th>3</th>\n",
       "      <td>0</td>\n",
       "      <td>None</td>\n",
       "      <td>19:20 28-MAR-2022</td>\n",
       "      <td>BDT 20000.00</td>\n",
       "      <td>BDT 2779295.82</td>\n",
       "      <td>ATM WDLShantinagar, Dhaka ATM&gt;Shantinagar TSOBD</td>\n",
       "      <td>371599XXXXXXXXX</td>\n",
       "      <td>&lt;9a6de5728dc3eaa8361348c61cbc2043@localhost.lo...</td>\n",
       "      <td>Mon, 28 Mar 2022 19:25:07 +0600</td>\n",
       "      <td>17fd0b3dc2e97e45</td>\n",
       "      <td>NaN</td>\n",
       "    </tr>\n",
       "    <tr>\n",
       "      <th>4</th>\n",
       "      <td>0</td>\n",
       "      <td>None</td>\n",
       "      <td>19:19 28-MAR-2022</td>\n",
       "      <td>BDT 20000.00</td>\n",
       "      <td>BDT 2799295.82</td>\n",
       "      <td>ATM WDLShantinagar, Dhaka ATM&gt;Shantinagar TSOBD</td>\n",
       "      <td>371599XXXXXXXXX</td>\n",
       "      <td>&lt;1f93f6f7a10170e9ee8da3541fcb4cac@localhost.lo...</td>\n",
       "      <td>Mon, 28 Mar 2022 19:25:04 +0600</td>\n",
       "      <td>17fd0b3b65915987</td>\n",
       "      <td>NaN</td>\n",
       "    </tr>\n",
       "  </tbody>\n",
       "</table>\n",
       "</div>"
      ],
      "text/plain": [
       "   index Particulars Transaction Time & Date Transaction Amount  \\\n",
       "0      0        None       23:05 06-AUG-2022        BDT 5000.00   \n",
       "1      0        None       16:55 27-MAY-2022       BDT 20000.00   \n",
       "2      0        None       09:55 03-APR-2022       BDT 10000.00   \n",
       "3      0        None       19:20 28-MAR-2022       BDT 20000.00   \n",
       "4      0        None       19:19 28-MAR-2022       BDT 20000.00   \n",
       "\n",
       "  Available Balance                                Terminal Location  \\\n",
       "0    BDT 2771437.98  ATM WDLShantinagar RATM>Shantinagar TSO      BD   \n",
       "1    BDT 2694228.82  ATM WDLShantinagar, Dhaka ATM>Shantinagar TSOBD   \n",
       "2    BDT 2753228.82  ATM WDLShantinagar, Dhaka ATM>Shantinagar TSOBD   \n",
       "3    BDT 2779295.82  ATM WDLShantinagar, Dhaka ATM>Shantinagar TSOBD   \n",
       "4    BDT 2799295.82  ATM WDLShantinagar, Dhaka ATM>Shantinagar TSOBD   \n",
       "\n",
       "          Card No.                                             msg_id  \\\n",
       "0  371599XXXXXXXXX  <251169511d7ca8c6514a89cad9e2045f@localhost.lo...   \n",
       "1  371599XXXXXXXXX  <373df72ee53ba831830c5ba632d6e6f7@localhost.lo...   \n",
       "2  371599XXXXXXXXX  <96fc3a582ae5a9b79a46c0753c57b616@localhost.lo...   \n",
       "3  371599XXXXXXXXX  <9a6de5728dc3eaa8361348c61cbc2043@localhost.lo...   \n",
       "4  371599XXXXXXXXX  <1f93f6f7a10170e9ee8da3541fcb4cac@localhost.lo...   \n",
       "\n",
       "                          msg_time                id Amount  \n",
       "0   Sat, 6 Aug 2022 23:10:06 +0600  1827422df69315a4    NaN  \n",
       "1  Fri, 27 May 2022 17:15:15 +0600  181053af774eaafe    NaN  \n",
       "2   Sun, 3 Apr 2022 10:00:09 +0600  17fed94cee6cae59    NaN  \n",
       "3  Mon, 28 Mar 2022 19:25:07 +0600  17fd0b3dc2e97e45    NaN  \n",
       "4  Mon, 28 Mar 2022 19:25:04 +0600  17fd0b3b65915987    NaN  "
      ]
     },
     "execution_count": 5,
     "metadata": {},
     "output_type": "execute_result"
    }
   ],
   "source": [
    "df.head()"
   ]
  },
  {
   "cell_type": "code",
   "execution_count": 7,
   "metadata": {},
   "outputs": [],
   "source": [
    "pd.DataFrame(messages).to_clipboard()"
   ]
  },
  {
   "cell_type": "code",
   "execution_count": 4,
   "metadata": {},
   "outputs": [],
   "source": [
    "df.to_csv('output_1.csv',index=False)"
   ]
  },
  {
   "cell_type": "code",
   "execution_count": null,
   "metadata": {},
   "outputs": [],
   "source": [
    "import pandas as pd\n",
    "dict_ = dict(zip(list(enumerate(keys_)),list(enumerate(values_))))"
   ]
  },
  {
   "cell_type": "code",
   "execution_count": null,
   "metadata": {},
   "outputs": [],
   "source": [
    "pd.DataFrame.from_dict(dict_,orient='index')"
   ]
  }
 ],
 "metadata": {
  "kernelspec": {
   "display_name": "Python 3.10.5 64-bit",
   "language": "python",
   "name": "python3"
  },
  "language_info": {
   "codemirror_mode": {
    "name": "ipython",
    "version": 3
   },
   "file_extension": ".py",
   "mimetype": "text/x-python",
   "name": "python",
   "nbconvert_exporter": "python",
   "pygments_lexer": "ipython3",
   "version": "3.10.5"
  },
  "orig_nbformat": 4,
  "vscode": {
   "interpreter": {
    "hash": "aee8b7b246df8f9039afb4144a1f6fd8d2ca17a180786b69acc140d282b71a49"
   }
  }
 },
 "nbformat": 4,
 "nbformat_minor": 2
}
